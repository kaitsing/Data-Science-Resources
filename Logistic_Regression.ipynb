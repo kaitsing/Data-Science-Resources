{
 "cells": [
  {
   "cell_type": "markdown",
   "metadata": {},
   "source": [
    "### Logistic Regression "
   ]
  },
  {
   "cell_type": "markdown",
   "metadata": {},
   "source": [
    "This notebook will walk through: assumptions, pre-work, algorithms, performance analysis, and when to use."
   ]
  },
  {
   "cell_type": "markdown",
   "metadata": {},
   "source": [
    "#### Assumptions"
   ]
  },
  {
   "cell_type": "markdown",
   "metadata": {},
   "source": [
    "1. Indpendent variables(X): no need for linear relationship with dependent, linear relationship with log odds, no multi-collinearity, few outliers\n",
    "2. Dependent variable(y): binary or ordinal\n",
    "3. Residuals: no need for normality\n",
    "4. Independent observations, large sample size to assure enough responses in each category (10 * num_cols / ex_prob_least_freq_outcome)"
   ]
  },
  {
   "cell_type": "markdown",
   "metadata": {},
   "source": [
    "#### Pre-model work"
   ]
  },
  {
   "cell_type": "markdown",
   "metadata": {},
   "source": [
    "1. Encode categorical features\n",
    "2. Remove outliers, maybe or misclassified instances\n",
    "3. Transform input variables to better expose linear relationship\n",
    "4. Remove correlated inputs"
   ]
  },
  {
   "cell_type": "markdown",
   "metadata": {},
   "source": [
    "#### Implementation"
   ]
  },
  {
   "cell_type": "code",
   "execution_count": 3,
   "metadata": {},
   "outputs": [],
   "source": [
    "#from sklearn.linear_model import LogisticRegression\n",
    "#statsmodels.discrete.discrete_model.Logit"
   ]
  },
  {
   "cell_type": "markdown",
   "metadata": {},
   "source": [
    "#### Performance"
   ]
  },
  {
   "cell_type": "markdown",
   "metadata": {},
   "source": [
    "1. Confusion matrix(FP/ FN): distribution of actual v predicted\n",
    "2. Precision: of all identified as T, how many are actually T\n",
    "3. Recall: of all T observations, how many did the model identify\n",
    "4. ROC curve: trade off between TPR/FPR, how well the model identifies the 2 classes\n",
    "5. Cross validation"
   ]
  },
  {
   "cell_type": "markdown",
   "metadata": {},
   "source": [
    "#### Improvements"
   ]
  },
  {
   "cell_type": "markdown",
   "metadata": {},
   "source": [
    "1. Address class imbalance with under/over sampling/weighting\n",
    "2. Standardize/Scale/Normalize variables\n",
    "3. Hyperparam tuning\n",
    "4. Add more features"
   ]
  },
  {
   "cell_type": "markdown",
   "metadata": {},
   "source": [
    "#### Interpretation"
   ]
  },
  {
   "cell_type": "markdown",
   "metadata": {},
   "source": [
    "Of all positive predictions (precision) % are correct, covering (recall) % of data at (threshold) % confidence threshold."
   ]
  },
  {
   "cell_type": "markdown",
   "metadata": {},
   "source": [
    "#### When to use"
   ]
  },
  {
   "cell_type": "markdown",
   "metadata": {},
   "source": [
    "1. To determine the relative importance/interactions of each predictor\n",
    "2. When you have low dimensional data, with binary/ordinal label and want a quick baseline\n",
    "3. Predicting a category from a set of continuous or categorical features\n",
    "4. Ranking a list based on probability of outcome"
   ]
  },
  {
   "cell_type": "code",
   "execution_count": null,
   "metadata": {},
   "outputs": [],
   "source": []
  }
 ],
 "metadata": {
  "kernelspec": {
   "display_name": "Python 3",
   "language": "python",
   "name": "python3"
  },
  "language_info": {
   "codemirror_mode": {
    "name": "ipython",
    "version": 3
   },
   "file_extension": ".py",
   "mimetype": "text/x-python",
   "name": "python",
   "nbconvert_exporter": "python",
   "pygments_lexer": "ipython3",
   "version": "3.7.3"
  }
 },
 "nbformat": 4,
 "nbformat_minor": 4
}
