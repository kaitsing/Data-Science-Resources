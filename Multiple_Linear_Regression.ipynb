{
 "cells": [
  {
   "cell_type": "markdown",
   "metadata": {},
   "source": [
    "### Linear Regression "
   ]
  },
  {
   "cell_type": "markdown",
   "metadata": {},
   "source": [
    "This notebook will walk through: assumptions, pre-work, algorithms, performance analysis, and when to use."
   ]
  },
  {
   "cell_type": "markdown",
   "metadata": {},
   "source": [
    "#### Assumptions"
   ]
  },
  {
   "cell_type": "markdown",
   "metadata": {},
   "source": [
    "1. Indpendent variables(X): no multi-collinearity, variability within, uncorrelated w/ residuals, appx normal, linear relationship with dependent variable\n",
    "2. Dependent variable(y): normal, if n < 3000, continuous\n",
    "3. Residuals: iid, mean of 0"
   ]
  },
  {
   "cell_type": "markdown",
   "metadata": {},
   "source": [
    "#### Pre-model work"
   ]
  },
  {
   "cell_type": "markdown",
   "metadata": {},
   "source": [
    "1. Encode categorical features\n",
    "2. Remove outliers, maybe\n",
    "3. Transform input variables to better expose linear relationship\n",
    "4. Remove correlated inputs\n",
    "5. Normalizing data can help SGD converge quicker, but you may lose some feature information"
   ]
  },
  {
   "cell_type": "markdown",
   "metadata": {},
   "source": [
    "#### Read in dataset"
   ]
  },
  {
   "cell_type": "code",
   "execution_count": 1,
   "metadata": {},
   "outputs": [],
   "source": [
    "import pandas as pd\n",
    "df = pd.read_csv('heart.csv')"
   ]
  },
  {
   "cell_type": "code",
   "execution_count": 3,
   "metadata": {},
   "outputs": [
    {
     "data": {
      "text/html": [
       "<div>\n",
       "<style scoped>\n",
       "    .dataframe tbody tr th:only-of-type {\n",
       "        vertical-align: middle;\n",
       "    }\n",
       "\n",
       "    .dataframe tbody tr th {\n",
       "        vertical-align: top;\n",
       "    }\n",
       "\n",
       "    .dataframe thead th {\n",
       "        text-align: right;\n",
       "    }\n",
       "</style>\n",
       "<table border=\"1\" class=\"dataframe\">\n",
       "  <thead>\n",
       "    <tr style=\"text-align: right;\">\n",
       "      <th></th>\n",
       "      <th>age</th>\n",
       "      <th>sex</th>\n",
       "      <th>cp</th>\n",
       "      <th>trestbps</th>\n",
       "      <th>chol</th>\n",
       "      <th>fbs</th>\n",
       "      <th>restecg</th>\n",
       "      <th>thalach</th>\n",
       "      <th>exang</th>\n",
       "      <th>oldpeak</th>\n",
       "      <th>slope</th>\n",
       "      <th>ca</th>\n",
       "      <th>thal</th>\n",
       "      <th>target</th>\n",
       "    </tr>\n",
       "  </thead>\n",
       "  <tbody>\n",
       "    <tr>\n",
       "      <th>13</th>\n",
       "      <td>64</td>\n",
       "      <td>1</td>\n",
       "      <td>3</td>\n",
       "      <td>110</td>\n",
       "      <td>211</td>\n",
       "      <td>0</td>\n",
       "      <td>0</td>\n",
       "      <td>144</td>\n",
       "      <td>1</td>\n",
       "      <td>1.8</td>\n",
       "      <td>1</td>\n",
       "      <td>0</td>\n",
       "      <td>2</td>\n",
       "      <td>1</td>\n",
       "    </tr>\n",
       "    <tr>\n",
       "      <th>201</th>\n",
       "      <td>60</td>\n",
       "      <td>1</td>\n",
       "      <td>0</td>\n",
       "      <td>125</td>\n",
       "      <td>258</td>\n",
       "      <td>0</td>\n",
       "      <td>0</td>\n",
       "      <td>141</td>\n",
       "      <td>1</td>\n",
       "      <td>2.8</td>\n",
       "      <td>1</td>\n",
       "      <td>1</td>\n",
       "      <td>3</td>\n",
       "      <td>0</td>\n",
       "    </tr>\n",
       "    <tr>\n",
       "      <th>24</th>\n",
       "      <td>40</td>\n",
       "      <td>1</td>\n",
       "      <td>3</td>\n",
       "      <td>140</td>\n",
       "      <td>199</td>\n",
       "      <td>0</td>\n",
       "      <td>1</td>\n",
       "      <td>178</td>\n",
       "      <td>1</td>\n",
       "      <td>1.4</td>\n",
       "      <td>2</td>\n",
       "      <td>0</td>\n",
       "      <td>3</td>\n",
       "      <td>1</td>\n",
       "    </tr>\n",
       "  </tbody>\n",
       "</table>\n",
       "</div>"
      ],
      "text/plain": [
       "     age  sex  cp  trestbps  chol  fbs  restecg  thalach  exang  oldpeak  \\\n",
       "13    64    1   3       110   211    0        0      144      1      1.8   \n",
       "201   60    1   0       125   258    0        0      141      1      2.8   \n",
       "24    40    1   3       140   199    0        1      178      1      1.4   \n",
       "\n",
       "     slope  ca  thal  target  \n",
       "13       1   0     2       1  \n",
       "201      1   1     3       0  \n",
       "24       2   0     3       1  "
      ]
     },
     "execution_count": 3,
     "metadata": {},
     "output_type": "execute_result"
    }
   ],
   "source": [
    "df.sample(3)"
   ]
  },
  {
   "cell_type": "markdown",
   "metadata": {},
   "source": [
    "#### Implementation"
   ]
  },
  {
   "cell_type": "markdown",
   "metadata": {},
   "source": [
    "- y = b_0 + b_1 * x\n",
    "- Aiming to minimize the residual sum of squares (error terms)\n",
    "- Standard error measures how each coeff varies under repeated sampling (the more spread out the x, the less wiggle room the slope has)"
   ]
  },
  {
   "cell_type": "code",
   "execution_count": 23,
   "metadata": {},
   "outputs": [],
   "source": [
    "from statistics import mean, variance"
   ]
  },
  {
   "cell_type": "code",
   "execution_count": 19,
   "metadata": {},
   "outputs": [],
   "source": [
    "# yi - y_hat\n",
    "def residual_sum_squares():\n",
    "    RSS = sum((yi - (B_hat0 + B_hat1 * xi))**2)\n",
    "    pass\n",
    "\n",
    "def coefficients():\n",
    "    b_1 = sum( (xi-x_mean) * (yi-y_mean) ) / sum( (xi-x_mean)**2) )\n",
    "    b_0 = y_mean - b_1 * x_mean\n",
    "    pass\n",
    "\n",
    "# Used to complete confidence intervals for the parameters\n",
    "# 95% = b_1 +- 2 * SE(b_1)\n",
    "def std_error():\n",
    "    b_1_err = var(errors) / sum((xi - x_mean)**2)  \n",
    "    b_0_err = var(errors) * ((1 / n) + (x_mean**2 / sum((xi - x_mean)**2)))\n",
    "    pass\n",
    "\n",
    "def residual_std_error():\n",
    "    sqrt( (1 / n - 2) * residual_sum_squares() )\n",
    "    pass\n",
    "\n",
    "def r_squared():\n",
    "    TSS = sum( (yi - y_mean**2) )\n",
    "    r2 = 1 - RSS/TSS"
   ]
  },
  {
   "cell_type": "code",
   "execution_count": 13,
   "metadata": {},
   "outputs": [],
   "source": [
    "x = df.drop(columns=['chol']).values\n",
    "y = df['chol'].values"
   ]
  },
  {
   "cell_type": "code",
   "execution_count": 17,
   "metadata": {},
   "outputs": [
    {
     "name": "stdout",
     "output_type": "stream",
     "text": [
      "[179.96747066 261.30208333 249.99877906 198.35051794 245.97674419\n",
      " 254.1251976  249.62992561 243.84803922 243.76021249 246.73926557\n",
      " 243.65736232 226.91382929 251.08695652] \n",
      " [  1.21944129 -22.01222826  -3.86221862   0.36401868   1.93436693\n",
      " -14.88709295  -0.02249228   7.39438503   2.40843053  -0.33961667\n",
      "   3.57384262   8.36392257  -8.85665349]\n"
     ]
    }
   ],
   "source": [
    "b0, b1 = coefficients(x,y)\n",
    "print(b0,'\\n',b1)"
   ]
  },
  {
   "cell_type": "code",
   "execution_count": 3,
   "metadata": {},
   "outputs": [],
   "source": [
    "#from sklearn.linear_model import LinearRegression\n",
    "#statsmodels.api.OLS()"
   ]
  },
  {
   "cell_type": "markdown",
   "metadata": {},
   "source": [
    "#### Hypothesis Testing"
   ]
  },
  {
   "cell_type": "markdown",
   "metadata": {},
   "source": [
    "- H0: no relationship between X and Y, B1 == 0\n",
    "- H1: there is some relationship between X and Y, B1 != 0\n",
    "- Use t-test to create a t-distribution (for small number of samples)\n",
    "- Get p-value: probability of getting a value of t at least as large as you got\n",
    "    - p-value < 0.05 is deemed significant\n",
    "    - confidence interval will not contain 0, will give effect magnitude\n",
    "    - merely answers how the evidence is of a non-zero association (weak effect can be very significant)"
   ]
  },
  {
   "cell_type": "code",
   "execution_count": null,
   "metadata": {},
   "outputs": [],
   "source": [
    "def t_test():\n",
    "    t = (b_1 - 0) / SE(b_1)"
   ]
  },
  {
   "cell_type": "markdown",
   "metadata": {},
   "source": [
    "#### Performance"
   ]
  },
  {
   "cell_type": "markdown",
   "metadata": {},
   "source": [
    "1. R^2: how well the model fits the data, fraction of variance explained by the model\n",
    "     - TSS: is the error without a model, RSS is error with a model\n",
    "     - How well do we reduce the TSS, relative to itself (TSS-RSS/TSS)\n",
    "     - Squared correlation between X & y\n",
    "     - Domain decides threshold for acceptance\n",
    "3. MSE/RMSE:  closer to 0 the better\n",
    "4. Residuals: should be random and iid"
   ]
  },
  {
   "cell_type": "markdown",
   "metadata": {},
   "source": [
    "#### Improvements"
   ]
  },
  {
   "cell_type": "markdown",
   "metadata": {},
   "source": [
    "1. Many models -> ensembling\n",
    "2. Check initially for linear trend\n",
    "3. Try handling outliers\n",
    "4. Standardize/Transform variables (Log of positive vars)\n",
    "5. Interaction or polynomials"
   ]
  },
  {
   "cell_type": "markdown",
   "metadata": {},
   "source": [
    "#### Interpretation"
   ]
  },
  {
   "cell_type": "markdown",
   "metadata": {},
   "source": [
    "- Coefficients: for every 1 unit increase in X, y_pred increases by x_coeff\n",
    "- 95% confidence interval:  we are 95% confident that the true slope lies in confidence interval over repeated sampling"
   ]
  },
  {
   "cell_type": "markdown",
   "metadata": {},
   "source": [
    "#### When to use"
   ]
  },
  {
   "cell_type": "markdown",
   "metadata": {},
   "source": [
    "1. To determine existence/strength of predictions (sales -> spend)\n",
    "2. When you have low dimensional data and want a quick baseline\n",
    "3. Forecasting an effect or trend (how accurately can we predict future costs)"
   ]
  },
  {
   "cell_type": "code",
   "execution_count": null,
   "metadata": {},
   "outputs": [],
   "source": []
  }
 ],
 "metadata": {
  "kernelspec": {
   "display_name": "Python 3",
   "language": "python",
   "name": "python3"
  },
  "language_info": {
   "codemirror_mode": {
    "name": "ipython",
    "version": 3
   },
   "file_extension": ".py",
   "mimetype": "text/x-python",
   "name": "python",
   "nbconvert_exporter": "python",
   "pygments_lexer": "ipython3",
   "version": "3.7.3"
  }
 },
 "nbformat": 4,
 "nbformat_minor": 4
}
